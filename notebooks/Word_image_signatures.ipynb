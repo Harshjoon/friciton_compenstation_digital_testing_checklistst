{
 "cells": [
  {
   "cell_type": "code",
   "execution_count": 36,
   "id": "5c5a2505",
   "metadata": {},
   "outputs": [],
   "source": [
    "from docx           import Document\n",
    "from docx.oxml      import OxmlElement\n",
    "from docx.oxml.ns   import qn\n",
    "from docx.shared    import Cm"
   ]
  },
  {
   "cell_type": "code",
   "execution_count": 2,
   "id": "470c4c8f",
   "metadata": {},
   "outputs": [],
   "source": [
    "document = Document(\"../documents/template_with_signature.docx\")"
   ]
  },
  {
   "cell_type": "code",
   "execution_count": 7,
   "id": "c41ee496",
   "metadata": {},
   "outputs": [
    {
     "name": "stdout",
     "output_type": "stream",
     "text": [
      "FRICTION COMPENSATION TESTING\n",
      "0 <docx.parts.document.DocumentPart object at 0x0000028707A41AC0>\n",
      "Date:  {{date}}                    \t\t\t\t\t\t\tTested by: {{tested_by}}\n",
      "1 <docx.parts.document.DocumentPart object at 0x0000028707A41AC0>\n",
      "\n",
      "2 <docx.parts.document.DocumentPart object at 0x0000028707A41AC0>\n",
      "Setup Assembled by\n",
      "3 <docx.parts.document.DocumentPart object at 0x0000028707A41AC0>\n",
      "Name: {{assembled_by}}Date: {{assembled_date}}Signature: \n",
      "4 <docx.parts.document.DocumentPart object at 0x0000028707A41AC0>\n",
      "Tested by\n",
      "5 <docx.parts.document.DocumentPart object at 0x0000028707A41AC0>\n",
      "Name: {{tested_by}}Date: {{tested_date}}Signature: \n",
      "6 <docx.parts.document.DocumentPart object at 0x0000028707A41AC0>\n",
      "Approved by\n",
      "7 <docx.parts.document.DocumentPart object at 0x0000028707A41AC0>\n",
      "Name: {{approved_by}}Date: {{approved_date}}Signature: \n",
      "8 <docx.parts.document.DocumentPart object at 0x0000028707A41AC0>\n",
      "Remarks:\n",
      "9 <docx.parts.document.DocumentPart object at 0x0000028707A41AC0>\n",
      "{{end_remarks}}\n",
      "10 <docx.parts.document.DocumentPart object at 0x0000028707A41AC0>\n"
     ]
    }
   ],
   "source": [
    "for i,paragraph in enumerate(document.paragraphs):\n",
    "    print(paragraph.text)\n",
    "    print(i,paragraph.part)"
   ]
  },
  {
   "cell_type": "code",
   "execution_count": 8,
   "id": "acbc4a49",
   "metadata": {},
   "outputs": [],
   "source": [
    "sig_para = document.paragraphs[8]"
   ]
  },
  {
   "cell_type": "code",
   "execution_count": 10,
   "id": "dcb96a3e",
   "metadata": {},
   "outputs": [],
   "source": [
    "new_signature_image_path = \"../images/1.png\""
   ]
  },
  {
   "cell_type": "code",
   "execution_count": 9,
   "id": "72277779",
   "metadata": {},
   "outputs": [
    {
     "data": {
      "text/plain": [
       "_ParagraphStyle('Normal') id: 2778967321904"
      ]
     },
     "execution_count": 9,
     "metadata": {},
     "output_type": "execute_result"
    }
   ],
   "source": [
    "sig_para.rep"
   ]
  },
  {
   "cell_type": "code",
   "execution_count": 54,
   "id": "a5241ac2",
   "metadata": {},
   "outputs": [],
   "source": [
    "#document = Document(\"../documents/template.docx\")\n",
    "document = Document(\"../documents/template_with_signature.docx\")\n",
    "# for s in document.inline_shapes:\n",
    "#     print(s)"
   ]
  },
  {
   "cell_type": "code",
   "execution_count": 55,
   "id": "5a040f1e",
   "metadata": {
    "scrolled": true
   },
   "outputs": [
    {
     "name": "stdout",
     "output_type": "stream",
     "text": [
      "FRICTION COMPENSATION TESTING\n",
      "0 <docx.parts.document.DocumentPart object at 0x0000028708883310>\n",
      "Date:  {{date}}                    \t\t\t\t\t\t\tTested by: {{tested_by}}\n",
      "1 <docx.parts.document.DocumentPart object at 0x0000028708883310>\n",
      "\n",
      "2 <docx.parts.document.DocumentPart object at 0x0000028708883310>\n",
      "Setup Assembled by\n",
      "3 <docx.parts.document.DocumentPart object at 0x0000028708883310>\n",
      "Name: {{assembled_by}}Date: {{assembled_date}}Signature: \n",
      "4 <docx.parts.document.DocumentPart object at 0x0000028708883310>\n",
      "Tested by\n",
      "5 <docx.parts.document.DocumentPart object at 0x0000028708883310>\n",
      "Name: {{tested_by}}Date: {{tested_date}}Signature: \n",
      "6 <docx.parts.document.DocumentPart object at 0x0000028708883310>\n",
      "Approved by\n",
      "7 <docx.parts.document.DocumentPart object at 0x0000028708883310>\n",
      "Name: {{approved_by}}Date: {{approved_date}}Signature: \n",
      "8 <docx.parts.document.DocumentPart object at 0x0000028708883310>\n",
      "Remarks:\n",
      "9 <docx.parts.document.DocumentPart object at 0x0000028708883310>\n",
      "{{end_remarks}}\n",
      "10 <docx.parts.document.DocumentPart object at 0x0000028708883310>\n"
     ]
    }
   ],
   "source": [
    "sig_height   = 1\n",
    "sig_width    = 3\n",
    "for i,paragraph in enumerate(document.paragraphs):\n",
    "    print(paragraph.text)\n",
    "    print(i,paragraph.part)\n",
    "    \n",
    "    \n",
    "    if i == 4:\n",
    "        r = paragraph.add_run()\n",
    "        r.add_picture(\n",
    "            new_signature_image_path,\n",
    "            height=Cm(sig_height),\n",
    "            width=Cm(sig_width)\n",
    "        )\n",
    "    \n",
    "    if i == 6:\n",
    "        r = paragraph.add_run()\n",
    "        r.add_picture(\n",
    "            new_signature_image_path,\n",
    "            height=Cm(sig_height),\n",
    "            width=Cm(sig_width)\n",
    "        )\n",
    "        \n",
    "    if i == 8:\n",
    "        r = paragraph.add_run()\n",
    "        r.add_picture(\n",
    "            new_signature_image_path,\n",
    "            height=Cm(sig_height),\n",
    "            width=Cm(sig_width)\n",
    "        )\n",
    "        "
   ]
  },
  {
   "cell_type": "code",
   "execution_count": 56,
   "id": "c91330b1",
   "metadata": {},
   "outputs": [],
   "source": [
    "#document.add_picture(new_signature_image_path)"
   ]
  },
  {
   "cell_type": "code",
   "execution_count": 57,
   "id": "218f3ee3",
   "metadata": {},
   "outputs": [],
   "source": [
    "document.save(\"../documents/template_out.docx\")"
   ]
  },
  {
   "cell_type": "code",
   "execution_count": null,
   "id": "727d9ef0",
   "metadata": {},
   "outputs": [],
   "source": []
  },
  {
   "cell_type": "code",
   "execution_count": null,
   "id": "0e7ce60d",
   "metadata": {},
   "outputs": [],
   "source": []
  }
 ],
 "metadata": {
  "kernelspec": {
   "display_name": "Python 3 (ipykernel)",
   "language": "python",
   "name": "python3"
  },
  "language_info": {
   "codemirror_mode": {
    "name": "ipython",
    "version": 3
   },
   "file_extension": ".py",
   "mimetype": "text/x-python",
   "name": "python",
   "nbconvert_exporter": "python",
   "pygments_lexer": "ipython3",
   "version": "3.9.13"
  }
 },
 "nbformat": 4,
 "nbformat_minor": 5
}
