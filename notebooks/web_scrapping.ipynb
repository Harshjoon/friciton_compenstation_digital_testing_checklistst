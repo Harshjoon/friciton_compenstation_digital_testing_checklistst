{
 "cells": [
  {
   "cell_type": "code",
   "execution_count": 1,
   "id": "3c8a09f3",
   "metadata": {},
   "outputs": [],
   "source": [
    "# https://harshjoon.github.io/FCTC_approval_website_host/"
   ]
  },
  {
   "cell_type": "code",
   "execution_count": 2,
   "id": "26f1dfbd",
   "metadata": {},
   "outputs": [],
   "source": [
    "import requests\n",
    "from bs4 import BeautifulSoup"
   ]
  },
  {
   "cell_type": "code",
   "execution_count": 5,
   "id": "f278358d",
   "metadata": {},
   "outputs": [],
   "source": [
    "page = requests.get(\"https://harshjoon.github.io/FCTC_approval_website_host/\")\n",
    "soup = BeautifulSoup( page.content, 'html.parser' )"
   ]
  },
  {
   "cell_type": "code",
   "execution_count": 6,
   "id": "62279791",
   "metadata": {},
   "outputs": [
    {
     "data": {
      "text/plain": [
       "'Document'"
      ]
     },
     "execution_count": 6,
     "metadata": {},
     "output_type": "execute_result"
    }
   ],
   "source": [
    "soup.title.text"
   ]
  },
  {
   "cell_type": "code",
   "execution_count": null,
   "id": "f464c496",
   "metadata": {},
   "outputs": [],
   "source": [
    "soup."
   ]
  },
  {
   "cell_type": "code",
   "execution_count": 9,
   "id": "c69fef81",
   "metadata": {},
   "outputs": [],
   "source": [
    "page = requests.get(\"https://harshjoon.github.io/FCTC_approval_website_host/approve_page.html\")\n",
    "soup = BeautifulSoup( page.content, 'html.parser' )"
   ]
  },
  {
   "cell_type": "code",
   "execution_count": 11,
   "id": "7f2b234e",
   "metadata": {},
   "outputs": [
    {
     "data": {
      "text/plain": [
       "<body>\n",
       "<center>\n",
       "<h1>approval page</h1>\n",
       "</center>\n",
       "<main>\n",
       "<div class=\"container-2\">\n",
       "<button type=\"button\">Approve</button>\n",
       "<button type=\"button\">Cancel</button>\n",
       "</div>\n",
       "</main>\n",
       "<script defer=\"\" src=\"approve.js\"></script>\n",
       "</body>"
      ]
     },
     "execution_count": 11,
     "metadata": {},
     "output_type": "execute_result"
    }
   ],
   "source": [
    "soup.body"
   ]
  },
  {
   "cell_type": "code",
   "execution_count": null,
   "id": "a4b0076a",
   "metadata": {},
   "outputs": [],
   "source": []
  },
  {
   "cell_type": "code",
   "execution_count": 15,
   "id": "06d6bc1d",
   "metadata": {},
   "outputs": [],
   "source": [
    "page = requests.get(\"https://harshjoon.github.io/FCTC_approval_website_host/approved.txt\")\n",
    "soup = BeautifulSoup( page.content, 'html.parser' )"
   ]
  },
  {
   "cell_type": "code",
   "execution_count": 16,
   "id": "9a96bb86",
   "metadata": {},
   "outputs": [
    {
     "data": {
      "text/plain": [
       "b'123456B1234\\n123456B1234\\n123456B1234\\n123456B1234\\n123456B1234'"
      ]
     },
     "execution_count": 16,
     "metadata": {},
     "output_type": "execute_result"
    }
   ],
   "source": []
  },
  {
   "cell_type": "code",
   "execution_count": null,
   "id": "08f965fb",
   "metadata": {},
   "outputs": [],
   "source": []
  }
 ],
 "metadata": {
  "kernelspec": {
   "display_name": "Python 3 (ipykernel)",
   "language": "python",
   "name": "python3"
  },
  "language_info": {
   "codemirror_mode": {
    "name": "ipython",
    "version": 3
   },
   "file_extension": ".py",
   "mimetype": "text/x-python",
   "name": "python",
   "nbconvert_exporter": "python",
   "pygments_lexer": "ipython3",
   "version": "3.9.13"
  }
 },
 "nbformat": 4,
 "nbformat_minor": 5
}
