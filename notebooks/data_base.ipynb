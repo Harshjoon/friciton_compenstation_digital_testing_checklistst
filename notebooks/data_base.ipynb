{
 "cells": [
  {
   "cell_type": "code",
   "execution_count": 15,
   "id": "1cb836d0",
   "metadata": {},
   "outputs": [],
   "source": [
    "import sqlite3\n",
    "from sqlite3 import Error"
   ]
  },
  {
   "cell_type": "code",
   "execution_count": 35,
   "id": "0b5170b7",
   "metadata": {},
   "outputs": [],
   "source": [
    "db_file = '../databases/main.db'\n",
    "conn = sqlite3.connect(db_file)"
   ]
  },
  {
   "cell_type": "code",
   "execution_count": 36,
   "id": "6fb947e3",
   "metadata": {},
   "outputs": [],
   "source": [
    "cur = conn.cursor()"
   ]
  },
  {
   "cell_type": "code",
   "execution_count": 26,
   "id": "1db8f889",
   "metadata": {},
   "outputs": [
    {
     "data": {
      "text/plain": [
       "<sqlite3.Cursor at 0x169b714e3b0>"
      ]
     },
     "execution_count": 26,
     "metadata": {},
     "output_type": "execute_result"
    }
   ],
   "source": [
    "# admin table\n",
    "cur.execute('CREATE TABLE IF NOT EXISTS \"admins\" (\\\n",
    "        \"adminname\" TEXT,\\\n",
    "        \"password\" TEXT\\\n",
    "        );')\n",
    "\n",
    "# username table\n",
    "cur.execute('CREATE TABLE IF NOT EXISTS \"users\" (\\\n",
    "        \"username\" TEXT,\\\n",
    "        \"password\" TEXT\\\n",
    "        );')\n",
    "\n",
    "cur.execute('CREATE TABLE IF NOT EXISTS \"approvers\" (\\\n",
    "        \"username\" TEXT,\\\n",
    "        \"password\" TEXT\\\n",
    "        );')"
   ]
  },
  {
   "cell_type": "code",
   "execution_count": 31,
   "id": "f1f09b82",
   "metadata": {},
   "outputs": [
    {
     "data": {
      "text/plain": [
       "<sqlite3.Cursor at 0x169b714e340>"
      ]
     },
     "execution_count": 31,
     "metadata": {},
     "output_type": "execute_result"
    }
   ],
   "source": [
    "#cur.execute('INSERT INTO \"admins\" VALUES(\\'admin\\',\\'admin\\')')\n",
    "#cur.execute('INSERT INTO \"users\" VALUES(\\'user\\',\\'user\\')')\n",
    "cur.execute('INSERT INTO \"approvers\" VALUES(\\'approver_1\\',\\'approver_1\\')')"
   ]
  },
  {
   "cell_type": "code",
   "execution_count": 22,
   "id": "83136ed7",
   "metadata": {},
   "outputs": [
    {
     "data": {
      "text/plain": [
       "[('user', 'user'), ('admin_1', 'admin_1'), ('admin_2', 'admin_2')]"
      ]
     },
     "execution_count": 22,
     "metadata": {},
     "output_type": "execute_result"
    }
   ],
   "source": [
    "cur.execute(\"SELECT username, password FROM users\")\n",
    "cur.fetchall()"
   ]
  },
  {
   "cell_type": "code",
   "execution_count": 37,
   "id": "0b3c10a6",
   "metadata": {},
   "outputs": [
    {
     "data": {
      "text/plain": [
       "[('admin', 'admin'), ('admin_3', '123'), ('user_2', '1234')]"
      ]
     },
     "execution_count": 37,
     "metadata": {},
     "output_type": "execute_result"
    }
   ],
   "source": [
    "cur.execute(\"SELECT adminname, password FROM admins\")\n",
    "cur.fetchall()"
   ]
  },
  {
   "cell_type": "code",
   "execution_count": 38,
   "id": "d1e2345a",
   "metadata": {},
   "outputs": [
    {
     "data": {
      "text/plain": [
       "[('approver_1', 'approver_1')]"
      ]
     },
     "execution_count": 38,
     "metadata": {},
     "output_type": "execute_result"
    }
   ],
   "source": [
    "cur.execute(\"SELECT username, password FROM approvers\")\n",
    "cur.fetchall()"
   ]
  },
  {
   "cell_type": "code",
   "execution_count": 39,
   "id": "a2e8ee4b",
   "metadata": {},
   "outputs": [
    {
     "data": {
      "text/plain": [
       "[('admin', 'admin')]"
      ]
     },
     "execution_count": 39,
     "metadata": {},
     "output_type": "execute_result"
    }
   ],
   "source": [
    "cur.execute(\"SELECT * FROM admins WHERE adminname=?\",[\"admin\"])\n",
    "cur.fetchall()"
   ]
  },
  {
   "cell_type": "code",
   "execution_count": null,
   "id": "42b8aa0a",
   "metadata": {},
   "outputs": [],
   "source": [
    "    "
   ]
  },
  {
   "cell_type": "code",
   "execution_count": 33,
   "id": "9a730540",
   "metadata": {},
   "outputs": [],
   "source": [
    "conn.commit()"
   ]
  },
  {
   "cell_type": "code",
   "execution_count": 34,
   "id": "bc785500",
   "metadata": {},
   "outputs": [],
   "source": [
    "conn.close()"
   ]
  },
  {
   "cell_type": "code",
   "execution_count": null,
   "id": "4dc12691",
   "metadata": {},
   "outputs": [],
   "source": []
  },
  {
   "cell_type": "code",
   "execution_count": null,
   "id": "fbc97a82",
   "metadata": {},
   "outputs": [],
   "source": [
    "db      = sqlite3.connect(self.database_filepath)\n",
    "        cursor  = db.cursor()\n",
    "        cursor.execute(\"SELECT * FROM users WHERE username=?\",[username])"
   ]
  }
 ],
 "metadata": {
  "kernelspec": {
   "display_name": "Python 3 (ipykernel)",
   "language": "python",
   "name": "python3"
  },
  "language_info": {
   "codemirror_mode": {
    "name": "ipython",
    "version": 3
   },
   "file_extension": ".py",
   "mimetype": "text/x-python",
   "name": "python",
   "nbconvert_exporter": "python",
   "pygments_lexer": "ipython3",
   "version": "3.9.13"
  }
 },
 "nbformat": 4,
 "nbformat_minor": 5
}
