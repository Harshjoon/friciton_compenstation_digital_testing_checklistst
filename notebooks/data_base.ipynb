{
 "cells": [
  {
   "cell_type": "code",
   "execution_count": 12,
   "id": "54eea34f",
   "metadata": {},
   "outputs": [],
   "source": [
    "import sqlite3\n",
    "from sqlite3 import Error"
   ]
  },
  {
   "cell_type": "code",
   "execution_count": 13,
   "id": "eee9348f",
   "metadata": {},
   "outputs": [],
   "source": [
    "db_file = '../databases/main.db'\n",
    "conn = sqlite3.connect(db_file)"
   ]
  },
  {
   "cell_type": "code",
   "execution_count": 14,
   "id": "bb8775bd",
   "metadata": {},
   "outputs": [],
   "source": [
    "cur = conn.cursor()"
   ]
  },
  {
   "cell_type": "code",
   "execution_count": 4,
   "id": "83712d67",
   "metadata": {},
   "outputs": [
    {
     "data": {
      "text/plain": [
       "<sqlite3.Cursor at 0x2130a1ed0a0>"
      ]
     },
     "execution_count": 4,
     "metadata": {},
     "output_type": "execute_result"
    }
   ],
   "source": [
    "# admin table\n",
    "cur.execute('CREATE TABLE IF NOT EXISTS \"admins\" (\\\n",
    "        \"adminname\" TEXT,\\\n",
    "        \"password\" TEXT\\\n",
    "        );')\n",
    "\n",
    "# username table\n",
    "cur.execute('CREATE TABLE IF NOT EXISTS \"users\" (\\\n",
    "        \"username\" TEXT,\\\n",
    "        \"password\" TEXT\\\n",
    "        );')\n",
    "\n",
    "cur.execute('CREATE TABLE IF NOT EXISTS \"approvers\" (\\\n",
    "        \"username\" TEXT,\\\n",
    "        \"password\" TEXT\\\n",
    "        );')"
   ]
  },
  {
   "cell_type": "code",
   "execution_count": 5,
   "id": "d4f30510",
   "metadata": {},
   "outputs": [
    {
     "data": {
      "text/plain": [
       "<sqlite3.Cursor at 0x2130a1ed0a0>"
      ]
     },
     "execution_count": 5,
     "metadata": {},
     "output_type": "execute_result"
    }
   ],
   "source": [
    "cur.execute('INSERT INTO \"admins\" VALUES(\\'admin\\',\\'113322#ssi\\')')\n",
    "cur.execute('INSERT INTO \"users\" VALUES(\\'user\\',\\'113322#ssi\\')')\n",
    "cur.execute('INSERT INTO \"approvers\" VALUES(\\'approver\\',\\'113322#ssi\\')')"
   ]
  },
  {
   "cell_type": "code",
   "execution_count": 15,
   "id": "457b8acc",
   "metadata": {},
   "outputs": [
    {
     "data": {
      "text/plain": [
       "[('user', '113322#ssi')]"
      ]
     },
     "execution_count": 15,
     "metadata": {},
     "output_type": "execute_result"
    }
   ],
   "source": [
    "cur.execute(\"SELECT username, password FROM users\")\n",
    "cur.fetchall()"
   ]
  },
  {
   "cell_type": "code",
   "execution_count": 16,
   "id": "cad7d3bc",
   "metadata": {},
   "outputs": [
    {
     "data": {
      "text/plain": [
       "[('admin', '113322#ssi')]"
      ]
     },
     "execution_count": 16,
     "metadata": {},
     "output_type": "execute_result"
    }
   ],
   "source": [
    "cur.execute(\"SELECT adminname, password FROM admins\")\n",
    "cur.fetchall()"
   ]
  },
  {
   "cell_type": "code",
   "execution_count": 8,
   "id": "27b6d3c3",
   "metadata": {},
   "outputs": [
    {
     "data": {
      "text/plain": [
       "[('approver', '113322#ssi')]"
      ]
     },
     "execution_count": 8,
     "metadata": {},
     "output_type": "execute_result"
    }
   ],
   "source": [
    "cur.execute(\"SELECT username, password FROM approvers\")\n",
    "cur.fetchall()"
   ]
  },
  {
   "cell_type": "code",
   "execution_count": 9,
   "id": "f71b3177",
   "metadata": {},
   "outputs": [
    {
     "data": {
      "text/plain": [
       "[('admin', '113322#ssi')]"
      ]
     },
     "execution_count": 9,
     "metadata": {},
     "output_type": "execute_result"
    }
   ],
   "source": [
    "cur.execute(\"SELECT * FROM admins WHERE adminname=?\",[\"admin\"])\n",
    "cur.fetchall()"
   ]
  },
  {
   "cell_type": "code",
   "execution_count": null,
   "id": "b26468a2",
   "metadata": {},
   "outputs": [],
   "source": [
    "    "
   ]
  },
  {
   "cell_type": "code",
   "execution_count": 48,
   "id": "944cc24c",
   "metadata": {},
   "outputs": [
    {
     "data": {
      "text/plain": [
       "[]"
      ]
     },
     "execution_count": 48,
     "metadata": {},
     "output_type": "execute_result"
    }
   ],
   "source": [
    "cur.execute('DELETE FROM users WHERE username=?',['asdasd123'])\n",
    "cur.fetchall()"
   ]
  },
  {
   "cell_type": "markdown",
   "id": "c0d96fd3",
   "metadata": {},
   "source": [
    "## delete values"
   ]
  },
  {
   "cell_type": "code",
   "execution_count": 49,
   "id": "96c8f4d1",
   "metadata": {},
   "outputs": [
    {
     "data": {
      "text/plain": [
       "[('user', 'user'),\n",
       " ('admin_1', 'admin_1'),\n",
       " ('admin_2', 'admin_2'),\n",
       " ('asdasd', '123')]"
      ]
     },
     "execution_count": 49,
     "metadata": {},
     "output_type": "execute_result"
    }
   ],
   "source": [
    "cur.execute(\"SELECT username, password FROM users\")\n",
    "cur.fetchall()"
   ]
  },
  {
   "cell_type": "markdown",
   "id": "65127cdb",
   "metadata": {},
   "source": [
    "## Update values"
   ]
  },
  {
   "cell_type": "code",
   "execution_count": 52,
   "id": "3a577f5c",
   "metadata": {},
   "outputs": [
    {
     "data": {
      "text/plain": [
       "[]"
      ]
     },
     "execution_count": 52,
     "metadata": {},
     "output_type": "execute_result"
    }
   ],
   "source": [
    "cur.execute(\"UPDATE users SET username = '{0}', password = '{1}' WHERE username=?\".format(\"abc\", \"123321\"), [\"asdasd\"])\n",
    "cur.fetchall()"
   ]
  },
  {
   "cell_type": "code",
   "execution_count": 65,
   "id": "481bcfeb",
   "metadata": {},
   "outputs": [
    {
     "data": {
      "text/plain": [
       "[('user', 'user'),\n",
       " ('admin_1', 'admin_1'),\n",
       " ('admin_2', 'admin_2'),\n",
       " ('abc', '123321'),\n",
       " ('user_user', '123123'),\n",
       " ('useruseruser', '123123'),\n",
       " ('user007', 'asdas')]"
      ]
     },
     "execution_count": 65,
     "metadata": {},
     "output_type": "execute_result"
    }
   ],
   "source": [
    "cur.execute(\"SELECT username, password FROM users\")\n",
    "cur.fetchall()"
   ]
  },
  {
   "cell_type": "code",
   "execution_count": 10,
   "id": "3bc685f9",
   "metadata": {},
   "outputs": [],
   "source": [
    "conn.commit()"
   ]
  },
  {
   "cell_type": "code",
   "execution_count": 17,
   "id": "699ca088",
   "metadata": {},
   "outputs": [],
   "source": [
    "conn.close()"
   ]
  },
  {
   "cell_type": "code",
   "execution_count": null,
   "id": "841fd08c",
   "metadata": {},
   "outputs": [],
   "source": []
  }
 ],
 "metadata": {
  "kernelspec": {
   "display_name": "Python 3 (ipykernel)",
   "language": "python",
   "name": "python3"
  },
  "language_info": {
   "codemirror_mode": {
    "name": "ipython",
    "version": 3
   },
   "file_extension": ".py",
   "mimetype": "text/x-python",
   "name": "python",
   "nbconvert_exporter": "python",
   "pygments_lexer": "ipython3",
   "version": "3.9.13"
  }
 },
 "nbformat": 4,
 "nbformat_minor": 5
}
