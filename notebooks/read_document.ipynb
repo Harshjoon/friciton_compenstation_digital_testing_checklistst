{
 "cells": [
  {
   "cell_type": "code",
   "execution_count": 6,
   "id": "38ec4248",
   "metadata": {},
   "outputs": [],
   "source": [
    "from docx         import Document\n",
    "from docx.oxml    import OxmlElement\n",
    "from docx.oxml.ns import qn"
   ]
  },
  {
   "cell_type": "code",
   "execution_count": 7,
   "id": "9b1d0feb",
   "metadata": {},
   "outputs": [],
   "source": [
    "document = Document(\"../documents/template.docx\")"
   ]
  },
  {
   "cell_type": "code",
   "execution_count": 8,
   "id": "508d4e96",
   "metadata": {},
   "outputs": [
    {
     "name": "stdout",
     "output_type": "stream",
     "text": [
      "FRICTION COMPENSATION TESTING\n",
      "Date:  {{date}}                    \t\t\t\t\t\t\tTested by: {{tested_by}}\n",
      "\n",
      "Setup Assembled by\n",
      "Name: {{assembled_by}}Date: {{assembled_date}}Signature: {{assembler_signature}}\n",
      "Tested by\n",
      "Name: {{tested_by}}Date: {{tested_date}}Signature: {{tester_signature}}\n",
      "Approved by\n",
      "Name: {{approved_by}}Date: {{approved_date}}Signature: {{approver_signature}}\n",
      "Remarks:\n",
      "{{end_remarks}}\n"
     ]
    }
   ],
   "source": [
    "for paragraph in document.paragraphs:\n",
    "    print(paragraph.text)"
   ]
  },
  {
   "cell_type": "code",
   "execution_count": 9,
   "id": "904337c2",
   "metadata": {},
   "outputs": [],
   "source": [
    "header = document.sections[0].header"
   ]
  },
  {
   "cell_type": "code",
   "execution_count": 10,
   "id": "1553b876",
   "metadata": {},
   "outputs": [],
   "source": [
    "for paragraph in header.paragraphs:\n",
    "    #print(paragraph.text)\n",
    "    if '{{actuator_serial_no}}' in paragraph.text:\n",
    "        paragraph.text = paragraph.text.replace('{{actuator_serial_no}}', \"0101001010\")"
   ]
  },
  {
   "cell_type": "code",
   "execution_count": null,
   "id": "60c95e51",
   "metadata": {},
   "outputs": [],
   "source": []
  },
  {
   "cell_type": "code",
   "execution_count": 36,
   "id": "8ee3b6bd",
   "metadata": {},
   "outputs": [],
   "source": [
    "import win32com.client as win32\n",
    "xl = win32.gencache.EnsureDispatch('Word.Application')"
   ]
  },
  {
   "cell_type": "code",
   "execution_count": 34,
   "id": "043eb328",
   "metadata": {},
   "outputs": [],
   "source": [
    "my_document = \"../documents/test.docx\"\n"
   ]
  },
  {
   "cell_type": "code",
   "execution_count": 31,
   "id": "445497d6",
   "metadata": {},
   "outputs": [
    {
     "data": {
      "text/plain": [
       "1"
      ]
     },
     "execution_count": 31,
     "metadata": {},
     "output_type": "execute_result"
    }
   ],
   "source": [
    "xl.Documents.Count"
   ]
  },
  {
   "cell_type": "code",
   "execution_count": 38,
   "id": "f62ca603",
   "metadata": {},
   "outputs": [],
   "source": [
    "import os\n",
    "\n",
    "os.path.abspath(\"../../images/1.png\")"
   ]
  },
  {
   "cell_type": "code",
   "execution_count": 39,
   "id": "86479fc1",
   "metadata": {},
   "outputs": [
    {
     "data": {
      "text/plain": [
       "<win32com.gen_py.None.Document>"
      ]
     },
     "execution_count": 39,
     "metadata": {},
     "output_type": "execute_result"
    }
   ],
   "source": [
    "xl.Documents.Open(os.path.abspath(\"../documents/test.docx\"))"
   ]
  },
  {
   "cell_type": "code",
   "execution_count": null,
   "id": "2b091bc5",
   "metadata": {},
   "outputs": [],
   "source": []
  },
  {
   "cell_type": "code",
   "execution_count": null,
   "id": "f86583d5",
   "metadata": {},
   "outputs": [],
   "source": []
  },
  {
   "cell_type": "code",
   "execution_count": null,
   "id": "d2f04972",
   "metadata": {},
   "outputs": [],
   "source": []
  },
  {
   "cell_type": "code",
   "execution_count": null,
   "id": "9c30df53",
   "metadata": {},
   "outputs": [],
   "source": []
  },
  {
   "cell_type": "code",
   "execution_count": null,
   "id": "484500bc",
   "metadata": {},
   "outputs": [],
   "source": []
  },
  {
   "cell_type": "code",
   "execution_count": 16,
   "id": "04b773a4",
   "metadata": {},
   "outputs": [
    {
     "name": "stdout",
     "output_type": "stream",
     "text": [
      "Permission denied\n"
     ]
    }
   ],
   "source": [
    "try: \n",
    "    document.save(\"../documents/test.docx\")\n",
    "except PermissionError:\n",
    "    print(\"Permission denied\")\n",
    "# except Exception as e:\n",
    "#     print(type(e))"
   ]
  },
  {
   "cell_type": "code",
   "execution_count": 25,
   "id": "c3361eda",
   "metadata": {},
   "outputs": [
    {
     "ename": "PermissionError",
     "evalue": "[Errno 13] Permission denied: '../documents/test.docx'",
     "output_type": "error",
     "traceback": [
      "\u001b[1;31m---------------------------------------------------------------------------\u001b[0m",
      "\u001b[1;31mPermissionError\u001b[0m                           Traceback (most recent call last)",
      "\u001b[1;32m~\\AppData\\Local\\Temp\\ipykernel_29608\\2978800831.py\u001b[0m in \u001b[0;36m<module>\u001b[1;34m\u001b[0m\n\u001b[1;32m----> 1\u001b[1;33m \u001b[0mf\u001b[0m \u001b[1;33m=\u001b[0m \u001b[0mopen\u001b[0m\u001b[1;33m(\u001b[0m\u001b[1;34m\"../documents/test.docx\"\u001b[0m\u001b[1;33m,\u001b[0m \u001b[1;34m\"r+\"\u001b[0m\u001b[1;33m)\u001b[0m\u001b[1;33m\u001b[0m\u001b[1;33m\u001b[0m\u001b[0m\n\u001b[0m\u001b[0;32m      2\u001b[0m \u001b[1;32mif\u001b[0m \u001b[0mf\u001b[0m\u001b[1;33m.\u001b[0m\u001b[0mclosed\u001b[0m\u001b[1;33m:\u001b[0m\u001b[1;33m\u001b[0m\u001b[1;33m\u001b[0m\u001b[0m\n\u001b[0;32m      3\u001b[0m     \u001b[0mprint\u001b[0m\u001b[1;33m(\u001b[0m\u001b[1;34m'file is closed'\u001b[0m\u001b[1;33m)\u001b[0m\u001b[1;33m\u001b[0m\u001b[1;33m\u001b[0m\u001b[0m\n",
      "\u001b[1;31mPermissionError\u001b[0m: [Errno 13] Permission denied: '../documents/test.docx'"
     ]
    }
   ],
   "source": [
    "import win32com.client as win32\n"
   ]
  },
  {
   "cell_type": "code",
   "execution_count": 26,
   "id": "3ba6eb10",
   "metadata": {},
   "outputs": [],
   "source": [
    "f.close()"
   ]
  },
  {
   "cell_type": "markdown",
   "id": "a919c70b",
   "metadata": {},
   "source": [
    "## Edit header"
   ]
  },
  {
   "cell_type": "code",
   "execution_count": 80,
   "id": "6583e5ba",
   "metadata": {},
   "outputs": [],
   "source": [
    "template_doc_path = \"../documents/template.docx\"\n",
    "document          = Document(template_doc_path)"
   ]
  },
  {
   "cell_type": "code",
   "execution_count": 75,
   "id": "89bc48a4",
   "metadata": {},
   "outputs": [],
   "source": [
    "header = document.sections[0].header"
   ]
  },
  {
   "cell_type": "code",
   "execution_count": 76,
   "id": "2c71eaac",
   "metadata": {},
   "outputs": [],
   "source": [
    "header_data = {\n",
    "    \"{{actuator_serial_no}}\" : \"01010101011           \",\n",
    "    \"{{doc_no}}\"             : \"1101\",\n",
    "    \"{{rev no}}\"             : \"                   1.1\"\n",
    "}"
   ]
  },
  {
   "cell_type": "code",
   "execution_count": 77,
   "id": "324514cf",
   "metadata": {},
   "outputs": [
    {
     "name": "stdout",
     "output_type": "stream",
     "text": [
      "{{actuator_serial_no}}\n",
      "{{doc_no}}\n",
      "{{rev no}}\n"
     ]
    }
   ],
   "source": [
    "for paragraph in header.paragraphs:\n",
    "    for key,value in header_data.items():\n",
    "        if key in paragraph.text:\n",
    "            print(key)\n",
    "            paragraph.text = paragraph.text.replace(key,value)"
   ]
  },
  {
   "cell_type": "markdown",
   "id": "d4d6caac",
   "metadata": {},
   "source": [
    "## Edit paragraph"
   ]
  },
  {
   "cell_type": "code",
   "execution_count": 131,
   "id": "14c2eab9",
   "metadata": {},
   "outputs": [],
   "source": [
    "main_paragraph_data = {\n",
    "    \"{{date}}\"           : \"01-01-2023\",\n",
    "    \"{{tested_by}}\"      : \"tester_name\",\n",
    "    \"{{assembled_by}}\"   : \"assembler_name\" + \"     \",\n",
    "    \"{{assembled_date}}\" : \"01-01-2023\" + \"        \",\n",
    "    \"{{tested_by}}\"      : \"tester_name\" + \" \",\n",
    "    \"{{tested_date}}\"    : \"01-01-2023\" + \"\",\n",
    "    \"{{approved_by}}\"    : \"approver_name\" + \"      \", \n",
    "    \"{{approved_date}}\"  : \"01-01-2023\" + \"      \",\n",
    "    \"{{end_remarks}}\"    : \"end remarks text\"\n",
    "}"
   ]
  },
  {
   "cell_type": "code",
   "execution_count": 132,
   "id": "a1c0e0ac",
   "metadata": {},
   "outputs": [],
   "source": [
    "template_doc_path = \"../documents/template.docx\"\n",
    "document          = Document(template_doc_path)"
   ]
  },
  {
   "cell_type": "code",
   "execution_count": 133,
   "id": "dd31a10e",
   "metadata": {},
   "outputs": [],
   "source": [
    "for i,paragraph in enumerate(document.paragraphs):\n",
    "    #print(i, paragraph.text)\n",
    "    for key,value in main_paragraph_data.items():\n",
    "        if key in paragraph.text:\n",
    "            paragraph.text = paragraph.text.replace(key, value)"
   ]
  },
  {
   "cell_type": "code",
   "execution_count": 134,
   "id": "6d16d6b5",
   "metadata": {},
   "outputs": [],
   "source": [
    "document.save(\"../documents/template_out.docx\")"
   ]
  },
  {
   "cell_type": "markdown",
   "id": "75fb96d7",
   "metadata": {},
   "source": [
    "## Edit tables"
   ]
  },
  {
   "cell_type": "code",
   "execution_count": 175,
   "id": "9271bb35",
   "metadata": {},
   "outputs": [],
   "source": [
    "template_doc_path = \"../documents/template.docx\"\n",
    "document          = Document(template_doc_path)"
   ]
  },
  {
   "cell_type": "code",
   "execution_count": 176,
   "id": "5d306386",
   "metadata": {},
   "outputs": [],
   "source": [
    "main_table = document.tables[0]"
   ]
  },
  {
   "cell_type": "code",
   "execution_count": 139,
   "id": "b82ffad9",
   "metadata": {},
   "outputs": [
    {
     "data": {
      "text/plain": [
       "['__class__',\n",
       " '__delattr__',\n",
       " '__dict__',\n",
       " '__dir__',\n",
       " '__doc__',\n",
       " '__eq__',\n",
       " '__format__',\n",
       " '__ge__',\n",
       " '__getattribute__',\n",
       " '__gt__',\n",
       " '__hash__',\n",
       " '__init__',\n",
       " '__init_subclass__',\n",
       " '__le__',\n",
       " '__lt__',\n",
       " '__module__',\n",
       " '__ne__',\n",
       " '__new__',\n",
       " '__reduce__',\n",
       " '__reduce_ex__',\n",
       " '__repr__',\n",
       " '__setattr__',\n",
       " '__sizeof__',\n",
       " '__str__',\n",
       " '__subclasshook__',\n",
       " '__weakref__',\n",
       " '_cells',\n",
       " '_column_count',\n",
       " '_element',\n",
       " '_parent',\n",
       " '_tbl',\n",
       " '_tblPr',\n",
       " 'add_column',\n",
       " 'add_row',\n",
       " 'alignment',\n",
       " 'autofit',\n",
       " 'cell',\n",
       " 'column_cells',\n",
       " 'columns',\n",
       " 'part',\n",
       " 'row_cells',\n",
       " 'rows',\n",
       " 'style',\n",
       " 'table',\n",
       " 'table_direction']"
      ]
     },
     "execution_count": 139,
     "metadata": {},
     "output_type": "execute_result"
    }
   ],
   "source": [
    "dir(main_table)"
   ]
  },
  {
   "cell_type": "code",
   "execution_count": null,
   "id": "9ffa621a",
   "metadata": {},
   "outputs": [],
   "source": []
  },
  {
   "cell_type": "code",
   "execution_count": 155,
   "id": "1ff6581c",
   "metadata": {},
   "outputs": [
    {
     "name": "stdout",
     "output_type": "stream",
     "text": [
      "SL. No:\n",
      "1\n",
      "Check the connection.\n",
      "{{remarks_3}}\n",
      "Procedure of Actuator Friction Compensation Testing                     \n",
      "2\n",
      "Record the following data.\n",
      "Actual Velocity\n",
      "Active Current\n",
      "Recording time\n",
      "Noise and Current Check\n",
      "Any Abnormal Noise \n",
      "Abnormal Peak Current \n"
     ]
    }
   ],
   "source": [
    "for cell in main_table.columns[0].cells:\n",
    "    print(cell.text)"
   ]
  },
  {
   "cell_type": "code",
   "execution_count": 183,
   "id": "c5b41364",
   "metadata": {},
   "outputs": [],
   "source": [
    "check_box_status = {\n",
    "    \"{{ch_1}}\" : u'\\u2713',\n",
    "    \"{{ch_2}}\" : u'\\u2713',\n",
    "    \"{{ch_3}}\" : u'\\u2713',\n",
    "    \"{{ch_4}}\" : u'\\u2713',\n",
    "    \"{{ch_5}}\" : u'\\u2713',\n",
    "    \"{{ch_6}}\" : u'\\u2713',\n",
    "    \"{{ch_7}}\" : u'\\u2713',\n",
    "    \"{{ch_8}}\" : u'\\u2713',\n",
    "}\n",
    "\n",
    "yes_no_status   = {\n",
    "    \"{{yn_1}}\" : \"yes\",\n",
    "    \"{{yn_2}}\" : \"yes\"\n",
    "}\n",
    "\n",
    "table_remarks_status = {\n",
    "    \"{{remarks_1}}\" : \"table remark text 1\",\n",
    "    \"{{remarks_2}}\" : \"table remark text 2\",\n",
    "    \"{{remarks_3}}\" : \"table remark text 3\",\n",
    "    \"{{remarks_4}}\" : \"table remark text 4\",\n",
    "    \"{{remarks_5}}\" : \"table remark text 5\",\n",
    "    \"{{remarks_6}}\" : \"table remark text 6\",\n",
    "}\n",
    "\n",
    "inspected_by_status = {\n",
    "    \"{{inspected_by_1}}\" : \"inspector_name\",\n",
    "    \"{{inspected_by_2}}\" : \"inspector_name\",\n",
    "}"
   ]
  },
  {
   "cell_type": "code",
   "execution_count": 184,
   "id": "8ffcf731",
   "metadata": {},
   "outputs": [],
   "source": [
    "for i in range(len(main_table.columns)):\n",
    "    for cell in main_table.column_cells(i):\n",
    "        for key,value in check_box_status.items():\n",
    "            if key in cell.text:\n",
    "                cell.text = cell.text.replace(key,value)\n",
    "        #print(cell.text)\n",
    "        \n",
    "for i in range(len(main_table.columns)):\n",
    "    for cell in main_table.column_cells(i):\n",
    "        for key,value in yes_no_status.items():\n",
    "            if key in cell.text:\n",
    "                cell.text = cell.text.replace(key,value)\n",
    "        #print(cell.text)\n",
    "        \n",
    "for i in range(len(main_table.columns)):\n",
    "    for cell in main_table.column_cells(i):\n",
    "        for key,value in table_remarks_status.items():\n",
    "            if key in cell.text:\n",
    "                cell.text = cell.text.replace(key,value)\n",
    "        #print(cell.text)\n",
    "        \n",
    "for i in range(len(main_table.columns)):\n",
    "    for cell in main_table.column_cells(i):\n",
    "        for key,value in inspected_by_status.items():\n",
    "            if key in cell.text:\n",
    "                cell.text = cell.text.replace(key,value)\n",
    "        #print(cell.text)"
   ]
  },
  {
   "cell_type": "code",
   "execution_count": 186,
   "id": "cf4fc854",
   "metadata": {},
   "outputs": [],
   "source": [
    "document.save(\"../documents/template_out.docx\")"
   ]
  },
  {
   "cell_type": "code",
   "execution_count": 170,
   "id": "1c10e0c4",
   "metadata": {},
   "outputs": [
    {
     "name": "stdout",
     "output_type": "stream",
     "text": [
      "✓\n",
      "✗\n"
     ]
    }
   ],
   "source": [
    "print(u'\\u2713')\n",
    "print(u'\\u2717')"
   ]
  },
  {
   "cell_type": "code",
   "execution_count": 188,
   "id": "b0dbcce5",
   "metadata": {},
   "outputs": [],
   "source": [
    "#!pip install docx2pdf"
   ]
  },
  {
   "cell_type": "code",
   "execution_count": 189,
   "id": "199c8414",
   "metadata": {},
   "outputs": [],
   "source": [
    "from docx2pdf import convert"
   ]
  },
  {
   "cell_type": "code",
   "execution_count": 190,
   "id": "d952669c",
   "metadata": {},
   "outputs": [
    {
     "data": {
      "application/vnd.jupyter.widget-view+json": {
       "model_id": "a47e5aae01e2440690bc9e8f96148f54",
       "version_major": 2,
       "version_minor": 0
      },
      "text/plain": [
       "  0%|          | 0/1 [00:00<?, ?it/s]"
      ]
     },
     "metadata": {},
     "output_type": "display_data"
    }
   ],
   "source": [
    "convert(\"../documents/template_out.docx\", \"../documents/test.pdf\")"
   ]
  },
  {
   "cell_type": "code",
   "execution_count": 191,
   "id": "8938c411",
   "metadata": {},
   "outputs": [],
   "source": [
    "output_path     = \"../../documents/checklist_report.docx\""
   ]
  },
  {
   "cell_type": "code",
   "execution_count": 192,
   "id": "e8423e82",
   "metadata": {},
   "outputs": [
    {
     "data": {
      "text/plain": [
       "'../../documents/checklist_report'"
      ]
     },
     "execution_count": 192,
     "metadata": {},
     "output_type": "execute_result"
    }
   ],
   "source": [
    "output_path[:-5]"
   ]
  },
  {
   "cell_type": "code",
   "execution_count": null,
   "id": "9e1a768a",
   "metadata": {},
   "outputs": [],
   "source": []
  },
  {
   "cell_type": "code",
   "execution_count": 193,
   "id": "d5c83387",
   "metadata": {},
   "outputs": [],
   "source": [
    "import datetime as dt"
   ]
  },
  {
   "cell_type": "code",
   "execution_count": 201,
   "id": "36f80b65",
   "metadata": {},
   "outputs": [],
   "source": [
    "\n",
    "date_format = \"%d-%m-%Y\" \n",
    "date_now    = dt.datetime.now().strftime(format=date_format)"
   ]
  },
  {
   "cell_type": "code",
   "execution_count": 202,
   "id": "232872fd",
   "metadata": {},
   "outputs": [
    {
     "data": {
      "text/plain": [
       "'20-09-2023'"
      ]
     },
     "execution_count": 202,
     "metadata": {},
     "output_type": "execute_result"
    }
   ],
   "source": [
    "date_now"
   ]
  },
  {
   "cell_type": "code",
   "execution_count": null,
   "id": "3abf381f",
   "metadata": {},
   "outputs": [],
   "source": []
  },
  {
   "cell_type": "code",
   "execution_count": 203,
   "id": "4b348ce3",
   "metadata": {},
   "outputs": [],
   "source": [
    "import os"
   ]
  },
  {
   "cell_type": "code",
   "execution_count": 205,
   "id": "03cf3b19",
   "metadata": {},
   "outputs": [
    {
     "data": {
      "text/plain": [
       "0"
      ]
     },
     "execution_count": 205,
     "metadata": {},
     "output_type": "execute_result"
    }
   ],
   "source": [
    "os.system('start ../documents/checklist_report.docx')"
   ]
  },
  {
   "cell_type": "code",
   "execution_count": null,
   "id": "218c1fcc",
   "metadata": {},
   "outputs": [],
   "source": []
  },
  {
   "cell_type": "code",
   "execution_count": null,
   "id": "adb31200",
   "metadata": {},
   "outputs": [],
   "source": []
  }
 ],
 "metadata": {
  "kernelspec": {
   "display_name": "Python 3 (ipykernel)",
   "language": "python",
   "name": "python3"
  },
  "language_info": {
   "codemirror_mode": {
    "name": "ipython",
    "version": 3
   },
   "file_extension": ".py",
   "mimetype": "text/x-python",
   "name": "python",
   "nbconvert_exporter": "python",
   "pygments_lexer": "ipython3",
   "version": "3.9.13"
  }
 },
 "nbformat": 4,
 "nbformat_minor": 5
}
