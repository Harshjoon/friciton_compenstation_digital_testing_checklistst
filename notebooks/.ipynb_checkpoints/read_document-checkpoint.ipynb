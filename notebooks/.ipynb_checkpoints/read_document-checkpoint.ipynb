{
 "cells": [
  {
   "cell_type": "code",
   "execution_count": 144,
   "id": "dd7abbbd",
   "metadata": {},
   "outputs": [],
   "source": [
    "from docx         import Document\n",
    "from docx.oxml    import OxmlElement\n",
    "from docx.oxml.ns import qn"
   ]
  },
  {
   "cell_type": "code",
   "execution_count": 23,
   "id": "1e255027",
   "metadata": {},
   "outputs": [],
   "source": [
    "document = Document(\"../documents/template.docx\")"
   ]
  },
  {
   "cell_type": "code",
   "execution_count": 24,
   "id": "d823fd88",
   "metadata": {},
   "outputs": [
    {
     "name": "stdout",
     "output_type": "stream",
     "text": [
      "FRICTION COMPENSATION TESTING\n",
      "Date: _________\t\t\t\t\t\t\tTested by: __________________\n",
      "\n",
      "Setup Assembled by\n",
      "Name: _______________ \t\t Date: _________________        Signature: ______________\n",
      "Tested by\n",
      "Name: _______________ \t\t Date: _________________        Signature: ______________\n",
      "Approved by\n",
      "Name: _______________\t\t Date: _________________        Signature: ______________\n",
      "Remarks:\n",
      "________________________________________________________________________________________________________________________________________________________________________________\n"
     ]
    }
   ],
   "source": [
    "for paragraph in document.paragraphs:\n",
    "    print(paragraph.text)"
   ]
  },
  {
   "cell_type": "code",
   "execution_count": 25,
   "id": "ff013810",
   "metadata": {},
   "outputs": [],
   "source": [
    "header = document.sections[0].header"
   ]
  },
  {
   "cell_type": "code",
   "execution_count": 26,
   "id": "fa606f13",
   "metadata": {},
   "outputs": [],
   "source": [
    "for paragraph in header.paragraphs:\n",
    "    #print(paragraph.text)\n",
    "    if '{{actuator_serial_no}}' in paragraph.text:\n",
    "        paragraph.text = paragraph.text.replace('{{actuator_serial_no}}', \"0101001010\")"
   ]
  },
  {
   "cell_type": "code",
   "execution_count": 17,
   "id": "46a799f8",
   "metadata": {},
   "outputs": [],
   "source": []
  },
  {
   "cell_type": "code",
   "execution_count": 27,
   "id": "bdc4809f",
   "metadata": {},
   "outputs": [],
   "source": [
    "document.save(\"../documents/template.docx\")"
   ]
  },
  {
   "cell_type": "code",
   "execution_count": null,
   "id": "132ed1c4",
   "metadata": {},
   "outputs": [],
   "source": []
  },
  {
   "cell_type": "code",
   "execution_count": null,
   "id": "ed55251e",
   "metadata": {},
   "outputs": [],
   "source": []
  },
  {
   "cell_type": "markdown",
   "id": "b41cbf74",
   "metadata": {},
   "source": [
    "## Edit header"
   ]
  },
  {
   "cell_type": "code",
   "execution_count": 80,
   "id": "db3c1881",
   "metadata": {},
   "outputs": [],
   "source": [
    "template_doc_path = \"../documents/template.docx\"\n",
    "document          = Document(template_doc_path)"
   ]
  },
  {
   "cell_type": "code",
   "execution_count": 75,
   "id": "f8cc5933",
   "metadata": {},
   "outputs": [],
   "source": [
    "header = document.sections[0].header"
   ]
  },
  {
   "cell_type": "code",
   "execution_count": 76,
   "id": "c832e7df",
   "metadata": {},
   "outputs": [],
   "source": [
    "header_data = {\n",
    "    \"{{actuator_serial_no}}\" : \"01010101011           \",\n",
    "    \"{{doc_no}}\"             : \"1101\",\n",
    "    \"{{rev no}}\"             : \"                   1.1\"\n",
    "}"
   ]
  },
  {
   "cell_type": "code",
   "execution_count": 77,
   "id": "e174242e",
   "metadata": {},
   "outputs": [
    {
     "name": "stdout",
     "output_type": "stream",
     "text": [
      "{{actuator_serial_no}}\n",
      "{{doc_no}}\n",
      "{{rev no}}\n"
     ]
    }
   ],
   "source": [
    "for paragraph in header.paragraphs:\n",
    "    for key,value in header_data.items():\n",
    "        if key in paragraph.text:\n",
    "            print(key)\n",
    "            paragraph.text = paragraph.text.replace(key,value)\n",
    "            "
   ]
  },
  {
   "cell_type": "markdown",
   "id": "589d43bb",
   "metadata": {},
   "source": [
    "## Edit paragraph"
   ]
  },
  {
   "cell_type": "code",
   "execution_count": 131,
   "id": "8782a879",
   "metadata": {},
   "outputs": [],
   "source": [
    "main_paragraph_data = {\n",
    "    \"{{date}}\"           : \"01-01-2023\",\n",
    "    \"{{tested_by}}\"      : \"tester_name\",\n",
    "    \"{{assembled_by}}\"   : \"assembler_name\" + \"     \",\n",
    "    \"{{assembled_date}}\" : \"01-01-2023\" + \"        \",\n",
    "    \"{{tested_by}}\"      : \"tester_name\" + \" \",\n",
    "    \"{{tested_date}}\"    : \"01-01-2023\" + \"\",\n",
    "    \"{{approved_by}}\"    : \"approver_name\" + \"      \", \n",
    "    \"{{approved_date}}\"  : \"01-01-2023\" + \"      \",\n",
    "    \"{{end_remarks}}\"    : \"end remarks text\"\n",
    "}"
   ]
  },
  {
   "cell_type": "code",
   "execution_count": 132,
   "id": "af39d3a1",
   "metadata": {},
   "outputs": [],
   "source": [
    "template_doc_path = \"../documents/template.docx\"\n",
    "document          = Document(template_doc_path)"
   ]
  },
  {
   "cell_type": "code",
   "execution_count": 133,
   "id": "7b0df50c",
   "metadata": {},
   "outputs": [],
   "source": [
    "for i,paragraph in enumerate(document.paragraphs):\n",
    "    #print(i, paragraph.text)\n",
    "    for key,value in main_paragraph_data.items():\n",
    "        if key in paragraph.text:\n",
    "            paragraph.text = paragraph.text.replace(key, value)"
   ]
  },
  {
   "cell_type": "code",
   "execution_count": 134,
   "id": "6d4e4833",
   "metadata": {},
   "outputs": [],
   "source": [
    "document.save(\"../documents/template_out.docx\")"
   ]
  },
  {
   "cell_type": "markdown",
   "id": "8b0657a7",
   "metadata": {},
   "source": [
    "## Edit tables"
   ]
  },
  {
   "cell_type": "code",
   "execution_count": 175,
   "id": "806c15af",
   "metadata": {},
   "outputs": [],
   "source": [
    "template_doc_path = \"../documents/template.docx\"\n",
    "document          = Document(template_doc_path)"
   ]
  },
  {
   "cell_type": "code",
   "execution_count": 176,
   "id": "e9afe840",
   "metadata": {},
   "outputs": [],
   "source": [
    "main_table = document.tables[0]"
   ]
  },
  {
   "cell_type": "code",
   "execution_count": 139,
   "id": "40d1ff92",
   "metadata": {},
   "outputs": [
    {
     "data": {
      "text/plain": [
       "['__class__',\n",
       " '__delattr__',\n",
       " '__dict__',\n",
       " '__dir__',\n",
       " '__doc__',\n",
       " '__eq__',\n",
       " '__format__',\n",
       " '__ge__',\n",
       " '__getattribute__',\n",
       " '__gt__',\n",
       " '__hash__',\n",
       " '__init__',\n",
       " '__init_subclass__',\n",
       " '__le__',\n",
       " '__lt__',\n",
       " '__module__',\n",
       " '__ne__',\n",
       " '__new__',\n",
       " '__reduce__',\n",
       " '__reduce_ex__',\n",
       " '__repr__',\n",
       " '__setattr__',\n",
       " '__sizeof__',\n",
       " '__str__',\n",
       " '__subclasshook__',\n",
       " '__weakref__',\n",
       " '_cells',\n",
       " '_column_count',\n",
       " '_element',\n",
       " '_parent',\n",
       " '_tbl',\n",
       " '_tblPr',\n",
       " 'add_column',\n",
       " 'add_row',\n",
       " 'alignment',\n",
       " 'autofit',\n",
       " 'cell',\n",
       " 'column_cells',\n",
       " 'columns',\n",
       " 'part',\n",
       " 'row_cells',\n",
       " 'rows',\n",
       " 'style',\n",
       " 'table',\n",
       " 'table_direction']"
      ]
     },
     "execution_count": 139,
     "metadata": {},
     "output_type": "execute_result"
    }
   ],
   "source": [
    "dir(main_table)"
   ]
  },
  {
   "cell_type": "code",
   "execution_count": null,
   "id": "b2dfaf23",
   "metadata": {},
   "outputs": [],
   "source": []
  },
  {
   "cell_type": "code",
   "execution_count": 155,
   "id": "f3413f83",
   "metadata": {},
   "outputs": [
    {
     "name": "stdout",
     "output_type": "stream",
     "text": [
      "SL. No:\n",
      "1\n",
      "Check the connection.\n",
      "{{remarks_3}}\n",
      "Procedure of Actuator Friction Compensation Testing                     \n",
      "2\n",
      "Record the following data.\n",
      "Actual Velocity\n",
      "Active Current\n",
      "Recording time\n",
      "Noise and Current Check\n",
      "Any Abnormal Noise \n",
      "Abnormal Peak Current \n"
     ]
    }
   ],
   "source": [
    "for cell in main_table.columns[0].cells:\n",
    "    print(cell.text)"
   ]
  },
  {
   "cell_type": "code",
   "execution_count": 183,
   "id": "2a1a718f",
   "metadata": {},
   "outputs": [],
   "source": [
    "check_box_status = {\n",
    "    \"{{ch_1}}\" : u'\\u2713',\n",
    "    \"{{ch_2}}\" : u'\\u2713',\n",
    "    \"{{ch_3}}\" : u'\\u2713',\n",
    "    \"{{ch_4}}\" : u'\\u2713',\n",
    "    \"{{ch_5}}\" : u'\\u2713',\n",
    "    \"{{ch_6}}\" : u'\\u2713',\n",
    "    \"{{ch_7}}\" : u'\\u2713',\n",
    "    \"{{ch_8}}\" : u'\\u2713',\n",
    "}\n",
    "\n",
    "yes_no_status   = {\n",
    "    \"{{yn_1}}\" : \"yes\",\n",
    "    \"{{yn_2}}\" : \"yes\"\n",
    "}\n",
    "\n",
    "table_remarks_status = {\n",
    "    \"{{remarks_1}}\" : \"table remark text 1\",\n",
    "    \"{{remarks_2}}\" : \"table remark text 2\",\n",
    "    \"{{remarks_3}}\" : \"table remark text 3\",\n",
    "    \"{{remarks_4}}\" : \"table remark text 4\",\n",
    "    \"{{remarks_5}}\" : \"table remark text 5\",\n",
    "    \"{{remarks_6}}\" : \"table remark text 6\",\n",
    "}\n",
    "\n",
    "inspected_by_status = {\n",
    "    \"{{inspected_by_1}}\" : \"inspector_name\",\n",
    "    \"{{inspected_by_2}}\" : \"inspector_name\",\n",
    "}"
   ]
  },
  {
   "cell_type": "code",
   "execution_count": 184,
   "id": "593017ff",
   "metadata": {},
   "outputs": [],
   "source": [
    "for i in range(len(main_table.columns)):\n",
    "    for cell in main_table.column_cells(i):\n",
    "        for key,value in check_box_status.items():\n",
    "            if key in cell.text:\n",
    "                cell.text = cell.text.replace(key,value)\n",
    "        #print(cell.text)\n",
    "        \n",
    "for i in range(len(main_table.columns)):\n",
    "    for cell in main_table.column_cells(i):\n",
    "        for key,value in yes_no_status.items():\n",
    "            if key in cell.text:\n",
    "                cell.text = cell.text.replace(key,value)\n",
    "        #print(cell.text)\n",
    "        \n",
    "for i in range(len(main_table.columns)):\n",
    "    for cell in main_table.column_cells(i):\n",
    "        for key,value in table_remarks_status.items():\n",
    "            if key in cell.text:\n",
    "                cell.text = cell.text.replace(key,value)\n",
    "        #print(cell.text)\n",
    "        \n",
    "for i in range(len(main_table.columns)):\n",
    "    for cell in main_table.column_cells(i):\n",
    "        for key,value in inspected_by_status.items():\n",
    "            if key in cell.text:\n",
    "                cell.text = cell.text.replace(key,value)\n",
    "        #print(cell.text)"
   ]
  },
  {
   "cell_type": "code",
   "execution_count": 186,
   "id": "674239a2",
   "metadata": {},
   "outputs": [],
   "source": [
    "document.save(\"../documents/template_out.docx\")"
   ]
  },
  {
   "cell_type": "code",
   "execution_count": 170,
   "id": "94da6cb8",
   "metadata": {},
   "outputs": [
    {
     "name": "stdout",
     "output_type": "stream",
     "text": [
      "✓\n",
      "✗\n"
     ]
    }
   ],
   "source": [
    "print(u'\\u2713')\n",
    "print(u'\\u2717')"
   ]
  },
  {
   "cell_type": "code",
   "execution_count": 188,
   "id": "cb375f55",
   "metadata": {},
   "outputs": [],
   "source": [
    "#!pip install docx2pdf"
   ]
  },
  {
   "cell_type": "code",
   "execution_count": 189,
   "id": "fa46771c",
   "metadata": {},
   "outputs": [],
   "source": [
    "from docx2pdf import convert"
   ]
  },
  {
   "cell_type": "code",
   "execution_count": 190,
   "id": "012d1495",
   "metadata": {},
   "outputs": [
    {
     "data": {
      "application/vnd.jupyter.widget-view+json": {
       "model_id": "a47e5aae01e2440690bc9e8f96148f54",
       "version_major": 2,
       "version_minor": 0
      },
      "text/plain": [
       "  0%|          | 0/1 [00:00<?, ?it/s]"
      ]
     },
     "metadata": {},
     "output_type": "display_data"
    }
   ],
   "source": [
    "convert(\"../documents/template_out.docx\", \"../documents/test.pdf\")"
   ]
  },
  {
   "cell_type": "code",
   "execution_count": 191,
   "id": "b8815187",
   "metadata": {},
   "outputs": [],
   "source": [
    "output_path     = \"../../documents/checklist_report.docx\""
   ]
  },
  {
   "cell_type": "code",
   "execution_count": 192,
   "id": "e9b93648",
   "metadata": {},
   "outputs": [
    {
     "data": {
      "text/plain": [
       "'../../documents/checklist_report'"
      ]
     },
     "execution_count": 192,
     "metadata": {},
     "output_type": "execute_result"
    }
   ],
   "source": [
    "output_path[:-5]"
   ]
  },
  {
   "cell_type": "code",
   "execution_count": null,
   "id": "7794d168",
   "metadata": {},
   "outputs": [],
   "source": []
  },
  {
   "cell_type": "code",
   "execution_count": 193,
   "id": "f1ff0684",
   "metadata": {},
   "outputs": [],
   "source": [
    "import datetime as dt"
   ]
  },
  {
   "cell_type": "code",
   "execution_count": 201,
   "id": "2a446b32",
   "metadata": {},
   "outputs": [],
   "source": [
    "\n",
    "date_format = \"%d-%m-%Y\" \n",
    "date_now    = dt.datetime.now().strftime(format=date_format)"
   ]
  },
  {
   "cell_type": "code",
   "execution_count": 202,
   "id": "aa788a3c",
   "metadata": {},
   "outputs": [
    {
     "data": {
      "text/plain": [
       "'20-09-2023'"
      ]
     },
     "execution_count": 202,
     "metadata": {},
     "output_type": "execute_result"
    }
   ],
   "source": [
    "date_now"
   ]
  },
  {
   "cell_type": "code",
   "execution_count": null,
   "id": "492e536c",
   "metadata": {},
   "outputs": [],
   "source": []
  }
 ],
 "metadata": {
  "kernelspec": {
   "display_name": "Python 3 (ipykernel)",
   "language": "python",
   "name": "python3"
  },
  "language_info": {
   "codemirror_mode": {
    "name": "ipython",
    "version": 3
   },
   "file_extension": ".py",
   "mimetype": "text/x-python",
   "name": "python",
   "nbconvert_exporter": "python",
   "pygments_lexer": "ipython3",
   "version": "3.9.13"
  }
 },
 "nbformat": 4,
 "nbformat_minor": 5
}
