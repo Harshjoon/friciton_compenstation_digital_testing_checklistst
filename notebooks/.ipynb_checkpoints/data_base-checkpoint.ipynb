{
 "cells": [
  {
   "cell_type": "code",
   "execution_count": 15,
   "id": "c7ef31e6",
   "metadata": {},
   "outputs": [],
   "source": [
    "import sqlite3\n",
    "from sqlite3 import Error"
   ]
  },
  {
   "cell_type": "code",
   "execution_count": 20,
   "id": "8017883d",
   "metadata": {},
   "outputs": [],
   "source": [
    "db_file = '../databases/main.db'\n",
    "conn = sqlite3.connect(db_file)"
   ]
  },
  {
   "cell_type": "code",
   "execution_count": 21,
   "id": "ae0652d3",
   "metadata": {},
   "outputs": [],
   "source": [
    "cur = conn.cursor()"
   ]
  },
  {
   "cell_type": "code",
   "execution_count": 4,
   "id": "3dd96dd4",
   "metadata": {},
   "outputs": [
    {
     "data": {
      "text/plain": [
       "<sqlite3.Cursor at 0x169b7125570>"
      ]
     },
     "execution_count": 4,
     "metadata": {},
     "output_type": "execute_result"
    }
   ],
   "source": [
    "# admin table\n",
    "cur.execute('CREATE TABLE IF NOT EXISTS \"admins\" (\\\n",
    "        \"adminname\" TEXT,\\\n",
    "        \"password\" TEXT\\\n",
    "        );')\n",
    "\n",
    "# username table\n",
    "cur.execute('CREATE TABLE IF NOT EXISTS \"users\" (\\\n",
    "        \"username\" TEXT,\\\n",
    "        \"password\" TEXT\\\n",
    "        );')\n",
    "\n",
    "cur.execute('CREATE TABLE IF NOT EXISTS \"approvers\" (\\\n",
    "        \"username\" TEXT,\\\n",
    "        \"password\" TEXT\\\n",
    "        );')"
   ]
  },
  {
   "cell_type": "code",
   "execution_count": 5,
   "id": "cccb7aa0",
   "metadata": {},
   "outputs": [
    {
     "data": {
      "text/plain": [
       "<sqlite3.Cursor at 0x169b7125570>"
      ]
     },
     "execution_count": 5,
     "metadata": {},
     "output_type": "execute_result"
    }
   ],
   "source": [
    "cur.execute('INSERT INTO \"admins\" VALUES(\\'admin\\',\\'admin\\')')\n",
    "cur.execute('INSERT INTO \"users\" VALUES(\\'user\\',\\'user\\')')"
   ]
  },
  {
   "cell_type": "code",
   "execution_count": 22,
   "id": "521a33f4",
   "metadata": {},
   "outputs": [
    {
     "data": {
      "text/plain": [
       "[('user', 'user'), ('admin_1', 'admin_1'), ('admin_2', 'admin_2')]"
      ]
     },
     "execution_count": 22,
     "metadata": {},
     "output_type": "execute_result"
    }
   ],
   "source": [
    "cur.execute(\"SELECT username, password FROM users\")\n",
    "cur.fetchall()"
   ]
  },
  {
   "cell_type": "code",
   "execution_count": 23,
   "id": "8ea9f2c7",
   "metadata": {},
   "outputs": [
    {
     "data": {
      "text/plain": [
       "[('admin', 'admin')]"
      ]
     },
     "execution_count": 23,
     "metadata": {},
     "output_type": "execute_result"
    }
   ],
   "source": [
    "cur.execute(\"SELECT adminname, password FROM admins\")\n",
    "cur.fetchall()"
   ]
  },
  {
   "cell_type": "code",
   "execution_count": 8,
   "id": "94669ce0",
   "metadata": {},
   "outputs": [
    {
     "data": {
      "text/plain": [
       "[('admin', 'admin')]"
      ]
     },
     "execution_count": 8,
     "metadata": {},
     "output_type": "execute_result"
    }
   ],
   "source": [
    "cur.execute(\"SELECT * FROM admins WHERE adminname=?\",[\"admin\"])\n",
    "cur.fetchall()"
   ]
  },
  {
   "cell_type": "code",
   "execution_count": null,
   "id": "6a49ab05",
   "metadata": {},
   "outputs": [],
   "source": []
  },
  {
   "cell_type": "code",
   "execution_count": 9,
   "id": "9324ba0c",
   "metadata": {},
   "outputs": [],
   "source": [
    "conn.commit()"
   ]
  },
  {
   "cell_type": "code",
   "execution_count": 10,
   "id": "37d8ad0c",
   "metadata": {},
   "outputs": [],
   "source": [
    "conn.close()"
   ]
  },
  {
   "cell_type": "code",
   "execution_count": null,
   "id": "fe0dd2bd",
   "metadata": {},
   "outputs": [],
   "source": []
  },
  {
   "cell_type": "code",
   "execution_count": null,
   "id": "90036df1",
   "metadata": {},
   "outputs": [],
   "source": [
    "db      = sqlite3.connect(self.database_filepath)\n",
    "        cursor  = db.cursor()\n",
    "        cursor.execute(\"SELECT * FROM users WHERE username=?\",[username])"
   ]
  }
 ],
 "metadata": {
  "kernelspec": {
   "display_name": "Python 3 (ipykernel)",
   "language": "python",
   "name": "python3"
  },
  "language_info": {
   "codemirror_mode": {
    "name": "ipython",
    "version": 3
   },
   "file_extension": ".py",
   "mimetype": "text/x-python",
   "name": "python",
   "nbconvert_exporter": "python",
   "pygments_lexer": "ipython3",
   "version": "3.9.13"
  }
 },
 "nbformat": 4,
 "nbformat_minor": 5
}
