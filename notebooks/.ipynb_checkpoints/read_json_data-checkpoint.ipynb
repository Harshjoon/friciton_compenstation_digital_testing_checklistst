{
 "cells": [
  {
   "cell_type": "code",
   "execution_count": 6,
   "id": "2191b1c2",
   "metadata": {},
   "outputs": [],
   "source": [
    "import json\n",
    "import ast"
   ]
  },
  {
   "cell_type": "code",
   "execution_count": 10,
   "id": "e360b404",
   "metadata": {},
   "outputs": [],
   "source": [
    "filepath = \"../report_data/json/12345\"\n",
    "\n",
    "file             = open(filepath)\n",
    "meta_data        = json.load(file)"
   ]
  },
  {
   "cell_type": "code",
   "execution_count": 12,
   "id": "6577f931",
   "metadata": {},
   "outputs": [
    {
     "name": "stdout",
     "output_type": "stream",
     "text": [
      "actuator_serial_number 12345\n",
      "document_number  FCTC_12345_22092023\n",
      "revision_number  1.0\n",
      "date 22-09-2023\n",
      "assembler_name admin\n",
      "assembly_date No date found\n",
      "assembler_signature \n",
      "tester_name admin\n",
      "testing_date 22-09-2023\n",
      "tester_signature No signature found\n",
      "approver_name No name found\n",
      "approval_date No date found\n",
      "approver_signature No signature found\n",
      "end_remarks \n",
      "ch_1 ✓\n",
      "ch_2 ✗\n",
      "ch_3 ✓\n",
      "ch_4 ✗\n",
      "ch_5 ✓\n",
      "ch_6 ✗\n",
      "ch_7 ✓\n",
      "ch_8 ✗\n",
      "yn_1 no\n",
      "yn_2 yes\n",
      "remarks_1 123\n",
      "remarks_2 \n",
      "remarks_3 sadfsdf\n",
      "remarks_4 \n",
      "remarks_5 xcvxc\n",
      "remarks_6 \n",
      "remarks_7 xcv\n",
      "remarks_8 \n",
      "inspector_name_1 xcv\n",
      "inspector_name_2 xcv\n"
     ]
    }
   ],
   "source": [
    "for key,value in meta_data.items():\n",
    "    print(key,value)"
   ]
  },
  {
   "cell_type": "code",
   "execution_count": 11,
   "id": "c1ccc9c6",
   "metadata": {},
   "outputs": [],
   "source": [
    "meta_data = ast.literal_eval(meta_data)"
   ]
  },
  {
   "cell_type": "code",
   "execution_count": 13,
   "id": "cc9d5b2a",
   "metadata": {},
   "outputs": [
    {
     "data": {
      "text/plain": [
       "'12345'"
      ]
     },
     "execution_count": 13,
     "metadata": {},
     "output_type": "execute_result"
    }
   ],
   "source": [
    "meta_data[\"actuator_serial_number\"]"
   ]
  },
  {
   "cell_type": "code",
   "execution_count": null,
   "id": "9eaabf7b",
   "metadata": {},
   "outputs": [],
   "source": []
  }
 ],
 "metadata": {
  "kernelspec": {
   "display_name": "Python 3 (ipykernel)",
   "language": "python",
   "name": "python3"
  },
  "language_info": {
   "codemirror_mode": {
    "name": "ipython",
    "version": 3
   },
   "file_extension": ".py",
   "mimetype": "text/x-python",
   "name": "python",
   "nbconvert_exporter": "python",
   "pygments_lexer": "ipython3",
   "version": "3.9.13"
  }
 },
 "nbformat": 4,
 "nbformat_minor": 5
}
