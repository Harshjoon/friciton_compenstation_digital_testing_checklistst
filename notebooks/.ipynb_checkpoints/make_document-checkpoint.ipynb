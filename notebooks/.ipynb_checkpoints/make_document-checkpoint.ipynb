{
 "cells": [
  {
   "cell_type": "code",
   "execution_count": 21,
   "id": "2b3bbeb7",
   "metadata": {},
   "outputs": [],
   "source": [
    "meta_data = {\n",
    "    \"heading\": \"FRICTION COMPENSTATION TESTING CHECKLIST\",\n",
    "    \"heading variables\" : {\n",
    "        \"actuator serial number\" : \"1040102B123\",\n",
    "        \"tested by\"              : \"tester name\",\n",
    "        \"date\"                   : \"01-01-2023\",\n",
    "        \"document number\"        : \"010101\",\n",
    "        \"revision number\"        : \"0.1\"\n",
    "    },\n",
    "    \"pre testing checklist\"      : {\n",
    "        \"01\" : {\n",
    "            \"Description\"        : \"Check the test setup\",\n",
    "            \"checkbox status\"    : False,\n",
    "            \"remarks\"            : \"no remarks\",\n",
    "        },\n",
    "        \"02\" : {\n",
    "            \"Description\"        : \"Check the connections\",\n",
    "            \"checkbox status\"    : False,\n",
    "            \"remarks\"            : \"no remarks\",\n",
    "        },\n",
    "        \"03\" : {\n",
    "            \"Description\"        : \"Check the active current value just after enabling the drive\",\n",
    "            \"checkbox status\"    : False,\n",
    "            \"remarks\"            : \"no remarks\",\n",
    "        },\n",
    "        \"04\" : {\n",
    "            \"Description\"        : \"Check if actuator is warmed up\",\n",
    "            \"checkbox status\"    : False,\n",
    "            \"remarks\"            : \"no remarks\",\n",
    "        },\n",
    "    },\n",
    "    \"testing checklist\"          : {\n",
    "        \"heading\"                : \"Procedure of actuator friction compensation testing\",\n",
    "        \"01\" : {\n",
    "            \"Description\"        : \"Test the actuator for velocity control mode\",\n",
    "            \"checkbox status\"    : False,\n",
    "            \"remarks\"            : \"no remarks\",\n",
    "        },\n",
    "        \"02\" : {\n",
    "            \"Description\"        : \"Record the following data\\n\\\n",
    "                                    - Velocity commanded\\n\\\n",
    "                                    - Actual velocity\\n\\\n",
    "                                    - Active current\\n\\\n",
    "                                    - Current commanded\\n\\\n",
    "                                    - Resolution\\n\\\n",
    "                                    - Recording time\",\n",
    "            \"checkbox status\"    : False,\n",
    "            \"remarks\"            : \"no remarks\",\n",
    "        },\n",
    "    },\n",
    "    \"other checks\"               : {\n",
    "        \"heading\"                : \"Noise and Current Check\",\n",
    "        \"01\" : {\n",
    "            \"Description\"        : \"Any Abnormal Noise\",\n",
    "            \"checkbox status\"    : False,\n",
    "            \"remarks\"            : \"no remarks\",\n",
    "            \"inspected by\"       : \"inspector name\"\n",
    "        },\n",
    "        \"02\" : {\n",
    "            \"Description\"        : \"Abnormal peak current\",\n",
    "            \"checkbox status\"    : False,\n",
    "            \"remarks\"            : \"no remarks\",\n",
    "            \"inspected by\"       : \"inspector name\"\n",
    "        },\n",
    "    },\n",
    "    \"other variables\"            : {\n",
    "        \"assembly variables\"     : {\n",
    "            \"assembled by\"       : \"name\",\n",
    "            \"date\"               : \"01-01-2023\",\n",
    "            \"e-signature\"        : None\n",
    "        },\n",
    "        \"testing variables\"      : {\n",
    "            \"tester name\"        : \"name\",\n",
    "            \"date\"               : \"01-01-2023\",\n",
    "            \"e-signature\"        : None\n",
    "        },\n",
    "        \"approval variables\"     : {\n",
    "            \"approvere name\"     : \"name\",\n",
    "            \"date\"               : \"01-01-2023\",\n",
    "            \"e-signature\"        : None\n",
    "        }\n",
    "    },\n",
    "    \"remarks\"                    : {\n",
    "        \"01\"                     : {\n",
    "            \"text\"               : \"The actuator is working normally.\"\n",
    "        }\n",
    "    }\n",
    "}"
   ]
  },
  {
   "cell_type": "code",
   "execution_count": 67,
   "id": "1a0cf8a7",
   "metadata": {},
   "outputs": [],
   "source": [
    "# imports\n",
    "from docx import Document"
   ]
  },
  {
   "cell_type": "code",
   "execution_count": 68,
   "id": "ce3b549f",
   "metadata": {},
   "outputs": [],
   "source": [
    "document = Document()"
   ]
  },
  {
   "cell_type": "code",
   "execution_count": 69,
   "id": "79798e2d",
   "metadata": {},
   "outputs": [],
   "source": [
    "# add heading\n",
    "docx_heading = document.add_heading(meta_data[\"heading\"])"
   ]
  },
  {
   "cell_type": "code",
   "execution_count": 70,
   "id": "c59208b0",
   "metadata": {},
   "outputs": [],
   "source": [
    "docx_heading.alignment = 1"
   ]
  },
  {
   "cell_type": "code",
   "execution_count": 71,
   "id": "5820bc95",
   "metadata": {},
   "outputs": [],
   "source": [
    "line_1 = \"\\nActuator Serial Number: \" +\\\n",
    "        meta_data[\"heading variables\"][\"actuator serial number\"] +\\\n",
    "        \"                                       \" +\\\n",
    "        \"Document Number: \" +\\\n",
    "        meta_data[\"heading variables\"][\"document number\"]\n",
    "\n",
    "docx_line_1 = document.add_paragraph(line_1)"
   ]
  },
  {
   "cell_type": "code",
   "execution_count": 72,
   "id": "f7dbae46",
   "metadata": {},
   "outputs": [],
   "source": [
    "line_2 = \"                                                \" +\\\n",
    "         \"            \" +\\\n",
    "         \"                                      \" +\\\n",
    "         \"REV NO: \" + meta_data[\"heading variables\"][\"revision number\"]\n",
    "\n",
    "docx_line_2 = document.add_paragraph(line_2)"
   ]
  },
  {
   "cell_type": "code",
   "execution_count": 73,
   "id": "db5ebb5d",
   "metadata": {},
   "outputs": [],
   "source": [
    "document.save(\"../documents/test.docx\")"
   ]
  },
  {
   "cell_type": "code",
   "execution_count": null,
   "id": "022ebd63",
   "metadata": {},
   "outputs": [],
   "source": []
  },
  {
   "cell_type": "code",
   "execution_count": null,
   "id": "5ff2aa18",
   "metadata": {},
   "outputs": [],
   "source": []
  },
  {
   "cell_type": "code",
   "execution_count": null,
   "id": "088c9f3b",
   "metadata": {},
   "outputs": [],
   "source": []
  }
 ],
 "metadata": {
  "kernelspec": {
   "display_name": "Python 3 (ipykernel)",
   "language": "python",
   "name": "python3"
  },
  "language_info": {
   "codemirror_mode": {
    "name": "ipython",
    "version": 3
   },
   "file_extension": ".py",
   "mimetype": "text/x-python",
   "name": "python",
   "nbconvert_exporter": "python",
   "pygments_lexer": "ipython3",
   "version": "3.9.13"
  }
 },
 "nbformat": 4,
 "nbformat_minor": 5
}
