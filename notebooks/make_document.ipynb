{
 "cells": [
  {
   "cell_type": "code",
   "execution_count": 21,
   "id": "a4081ea0",
   "metadata": {},
   "outputs": [],
   "source": [
    "meta_data = {\n",
    "    \"heading\": \"FRICTION COMPENSTATION TESTING CHECKLIST\",\n",
    "    \"heading variables\" : {\n",
    "        \"actuator serial number\" : \"1040102B123\",\n",
    "        \"tested by\"              : \"tester name\",\n",
    "        \"date\"                   : \"01-01-2023\",\n",
    "        \"document number\"        : \"010101\",\n",
    "        \"revision number\"        : \"0.1\"\n",
    "    },\n",
    "    \"pre testing checklist\"      : {\n",
    "        \"01\" : {\n",
    "            \"Description\"        : \"Check the test setup\",\n",
    "            \"checkbox status\"    : False,\n",
    "            \"remarks\"            : \"no remarks\",\n",
    "        },\n",
    "        \"02\" : {\n",
    "            \"Description\"        : \"Check the connections\",\n",
    "            \"checkbox status\"    : False,\n",
    "            \"remarks\"            : \"no remarks\",\n",
    "        },\n",
    "        \"03\" : {\n",
    "            \"Description\"        : \"Check the active current value just after enabling the drive\",\n",
    "            \"checkbox status\"    : False,\n",
    "            \"remarks\"            : \"no remarks\",\n",
    "        },\n",
    "        \"04\" : {\n",
    "            \"Description\"        : \"Check if actuator is warmed up\",\n",
    "            \"checkbox status\"    : False,\n",
    "            \"remarks\"            : \"no remarks\",\n",
    "        },\n",
    "    },\n",
    "    \"testing checklist\"          : {\n",
    "        \"heading\"                : \"Procedure of actuator friction compensation testing\",\n",
    "        \"01\" : {\n",
    "            \"Description\"        : \"Test the actuator for velocity control mode\",\n",
    "            \"checkbox status\"    : False,\n",
    "            \"remarks\"            : \"no remarks\",\n",
    "        },\n",
    "        \"02\" : {\n",
    "            \"Description\"        : \"Record the following data\\n\\\n",
    "                                    - Velocity commanded\\n\\\n",
    "                                    - Actual velocity\\n\\\n",
    "                                    - Active current\\n\\\n",
    "                                    - Current commanded\\n\\\n",
    "                                    - Resolution\\n\\\n",
    "                                    - Recording time\",\n",
    "            \"checkbox status\"    : False,\n",
    "            \"remarks\"            : \"no remarks\",\n",
    "        },\n",
    "    },\n",
    "    \"other checks\"               : {\n",
    "        \"heading\"                : \"Noise and Current Check\",\n",
    "        \"01\" : {\n",
    "            \"Description\"        : \"Any Abnormal Noise\",\n",
    "            \"checkbox status\"    : False,\n",
    "            \"remarks\"            : \"no remarks\",\n",
    "            \"inspected by\"       : \"inspector name\"\n",
    "        },\n",
    "        \"02\" : {\n",
    "            \"Description\"        : \"Abnormal peak current\",\n",
    "            \"checkbox status\"    : False,\n",
    "            \"remarks\"            : \"no remarks\",\n",
    "            \"inspected by\"       : \"inspector name\"\n",
    "        },\n",
    "    },\n",
    "    \"other variables\"            : {\n",
    "        \"assembly variables\"     : {\n",
    "            \"assembled by\"       : \"name\",\n",
    "            \"date\"               : \"01-01-2023\",\n",
    "            \"e-signature\"        : None\n",
    "        },\n",
    "        \"testing variables\"      : {\n",
    "            \"tester name\"        : \"name\",\n",
    "            \"date\"               : \"01-01-2023\",\n",
    "            \"e-signature\"        : None\n",
    "        },\n",
    "        \"approval variables\"     : {\n",
    "            \"approvere name\"     : \"name\",\n",
    "            \"date\"               : \"01-01-2023\",\n",
    "            \"e-signature\"        : None\n",
    "        }\n",
    "    },\n",
    "    \"remarks\"                    : {\n",
    "        \"01\"                     : {\n",
    "            \"text\"               : \"The actuator is working normally.\"\n",
    "        }\n",
    "    }\n",
    "}"
   ]
  },
  {
   "cell_type": "code",
   "execution_count": 200,
   "id": "b1905ab0",
   "metadata": {},
   "outputs": [],
   "source": [
    "# imports\n",
    "from docx import Document\n",
    "from docx.shared import Cm, Inches"
   ]
  },
  {
   "cell_type": "code",
   "execution_count": 297,
   "id": "51aa6763",
   "metadata": {},
   "outputs": [],
   "source": [
    "document = Document()\n",
    "\n",
    "# add heading\n",
    "docx_heading = document.add_heading(meta_data[\"heading\"])\n",
    "\n",
    "docx_heading.alignment = 1\n",
    "\n",
    "line_1 = \"\\nActuator Serial Number: \" +\\\n",
    "        meta_data[\"heading variables\"][\"actuator serial number\"] +\\\n",
    "        \"                                       \" +\\\n",
    "        \"Document Number: \" +\\\n",
    "        meta_data[\"heading variables\"][\"document number\"]\n",
    "\n",
    "docx_line_1 = document.add_paragraph(line_1)\n",
    "\n",
    "line_2 = \"                                                        \" +\\\n",
    "         \"                     \" +\\\n",
    "         \"                                      \" +\\\n",
    "         \"REV NO: \" + meta_data[\"heading variables\"][\"revision number\"]\n",
    "\n",
    "docx_line_2 = document.add_paragraph(line_2)\n",
    "\n",
    "heading_2 = \"FRICTION COMPENSATION TESTING\"\n",
    "docx_heading_2 = document.add_heading(heading_2)\n",
    "\n",
    "line_3 = \"Date: \" + meta_data[\"heading variables\"][\"date\"] +\\\n",
    "         \"                                                \"+\\\n",
    "         \"                                 \" + \"Tested by: \" +\\\n",
    "         meta_data[\"heading variables\"][\"tested by\"]\n",
    "docx_line_3 = document.add_paragraph(line_3)\n",
    "\n"
   ]
  },
  {
   "cell_type": "code",
   "execution_count": 298,
   "id": "e8ddbd54",
   "metadata": {},
   "outputs": [],
   "source": [
    "pre_checklist_table = document.add_table(rows=4, cols=4)\n",
    "pre_checklist_table.style = 'Table Grid'"
   ]
  },
  {
   "cell_type": "code",
   "execution_count": 299,
   "id": "f81ea7e0",
   "metadata": {},
   "outputs": [],
   "source": [
    "pre_checklist_table.autofit = True"
   ]
  },
  {
   "cell_type": "code",
   "execution_count": 300,
   "id": "2018ee23",
   "metadata": {},
   "outputs": [],
   "source": [
    "for cell in pre_checklist_table.columns[0].cells:\n",
    "    cell.width = Inches(0.5)\n",
    "    \n",
    "for cell in pre_checklist_table.columns[1].cells:\n",
    "    cell.width = Inches(4)\n",
    "    \n",
    "for cell in pre_checklist_table.columns[2].cells:\n",
    "    cell.width = Inches(0.5)\n",
    "    \n",
    "for cell in pre_checklist_table.columns[3].cells:\n",
    "    cell.width = Inches(4)"
   ]
  },
  {
   "cell_type": "code",
   "execution_count": 301,
   "id": "c23e3629",
   "metadata": {},
   "outputs": [],
   "source": [
    "cell_0_0 = pre_checklist_table.cell(0,0)\n",
    "cell_0_0.text  = \"S.No:\"\n",
    "#cell_0_0.width = Inches(0.2)"
   ]
  },
  {
   "cell_type": "code",
   "execution_count": null,
   "id": "c32acea9",
   "metadata": {},
   "outputs": [],
   "source": []
  },
  {
   "cell_type": "code",
   "execution_count": null,
   "id": "229da5b0",
   "metadata": {},
   "outputs": [],
   "source": []
  },
  {
   "cell_type": "code",
   "execution_count": null,
   "id": "01fb2d73",
   "metadata": {},
   "outputs": [],
   "source": []
  },
  {
   "cell_type": "code",
   "execution_count": 302,
   "id": "88e43a43",
   "metadata": {},
   "outputs": [],
   "source": [
    "document.save(\"../documents/test.docx\")"
   ]
  },
  {
   "cell_type": "code",
   "execution_count": null,
   "id": "04626b9b",
   "metadata": {},
   "outputs": [],
   "source": []
  },
  {
   "cell_type": "code",
   "execution_count": null,
   "id": "efa95653",
   "metadata": {},
   "outputs": [],
   "source": []
  },
  {
   "cell_type": "code",
   "execution_count": null,
   "id": "df9dd14d",
   "metadata": {},
   "outputs": [],
   "source": []
  }
 ],
 "metadata": {
  "kernelspec": {
   "display_name": "Python 3 (ipykernel)",
   "language": "python",
   "name": "python3"
  },
  "language_info": {
   "codemirror_mode": {
    "name": "ipython",
    "version": 3
   },
   "file_extension": ".py",
   "mimetype": "text/x-python",
   "name": "python",
   "nbconvert_exporter": "python",
   "pygments_lexer": "ipython3",
   "version": "3.9.13"
  }
 },
 "nbformat": 4,
 "nbformat_minor": 5
}
